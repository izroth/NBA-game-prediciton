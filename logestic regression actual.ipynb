{
 "cells": [
  {
   "cell_type": "code",
   "execution_count": 1,
   "id": "75fa949e",
   "metadata": {},
   "outputs": [
    {
     "data": {
      "text/html": [
       "<div>\n",
       "<style scoped>\n",
       "    .dataframe tbody tr th:only-of-type {\n",
       "        vertical-align: middle;\n",
       "    }\n",
       "\n",
       "    .dataframe tbody tr th {\n",
       "        vertical-align: top;\n",
       "    }\n",
       "\n",
       "    .dataframe thead th {\n",
       "        text-align: right;\n",
       "    }\n",
       "</style>\n",
       "<table border=\"1\" class=\"dataframe\">\n",
       "  <thead>\n",
       "    <tr style=\"text-align: right;\">\n",
       "      <th></th>\n",
       "      <th>Team</th>\n",
       "      <th>Game</th>\n",
       "      <th>Date</th>\n",
       "      <th>Home</th>\n",
       "      <th>Opponent</th>\n",
       "      <th>WINorLOSS</th>\n",
       "      <th>TeamPoints</th>\n",
       "      <th>OpponentPoints</th>\n",
       "      <th>FieldGoals</th>\n",
       "      <th>FieldGoalsAttempted</th>\n",
       "      <th>...</th>\n",
       "      <th>Opp.FreeThrowsAttempted</th>\n",
       "      <th>Opp.FreeThrows.</th>\n",
       "      <th>Opp.OffRebounds</th>\n",
       "      <th>Opp.TotalRebounds</th>\n",
       "      <th>Opp.Assists</th>\n",
       "      <th>Opp.Steals</th>\n",
       "      <th>Opp.Blocks</th>\n",
       "      <th>Opp.Turnovers</th>\n",
       "      <th>Opp.TotalFouls</th>\n",
       "      <th>GameResult</th>\n",
       "    </tr>\n",
       "  </thead>\n",
       "  <tbody>\n",
       "    <tr>\n",
       "      <th>0</th>\n",
       "      <td>ATL</td>\n",
       "      <td>1</td>\n",
       "      <td>29-10-2014</td>\n",
       "      <td>Away</td>\n",
       "      <td>TOR</td>\n",
       "      <td>L</td>\n",
       "      <td>102</td>\n",
       "      <td>109</td>\n",
       "      <td>40</td>\n",
       "      <td>80</td>\n",
       "      <td>...</td>\n",
       "      <td>33</td>\n",
       "      <td>0.818</td>\n",
       "      <td>16</td>\n",
       "      <td>48</td>\n",
       "      <td>26</td>\n",
       "      <td>13</td>\n",
       "      <td>9</td>\n",
       "      <td>9</td>\n",
       "      <td>22</td>\n",
       "      <td>0</td>\n",
       "    </tr>\n",
       "    <tr>\n",
       "      <th>1</th>\n",
       "      <td>ATL</td>\n",
       "      <td>2</td>\n",
       "      <td>01-11-2014</td>\n",
       "      <td>Home</td>\n",
       "      <td>IND</td>\n",
       "      <td>W</td>\n",
       "      <td>102</td>\n",
       "      <td>92</td>\n",
       "      <td>35</td>\n",
       "      <td>69</td>\n",
       "      <td>...</td>\n",
       "      <td>21</td>\n",
       "      <td>0.857</td>\n",
       "      <td>11</td>\n",
       "      <td>44</td>\n",
       "      <td>25</td>\n",
       "      <td>5</td>\n",
       "      <td>5</td>\n",
       "      <td>18</td>\n",
       "      <td>26</td>\n",
       "      <td>1</td>\n",
       "    </tr>\n",
       "    <tr>\n",
       "      <th>2</th>\n",
       "      <td>ATL</td>\n",
       "      <td>3</td>\n",
       "      <td>05-11-2014</td>\n",
       "      <td>Away</td>\n",
       "      <td>SAS</td>\n",
       "      <td>L</td>\n",
       "      <td>92</td>\n",
       "      <td>94</td>\n",
       "      <td>38</td>\n",
       "      <td>92</td>\n",
       "      <td>...</td>\n",
       "      <td>38</td>\n",
       "      <td>0.711</td>\n",
       "      <td>11</td>\n",
       "      <td>50</td>\n",
       "      <td>25</td>\n",
       "      <td>7</td>\n",
       "      <td>9</td>\n",
       "      <td>19</td>\n",
       "      <td>15</td>\n",
       "      <td>0</td>\n",
       "    </tr>\n",
       "    <tr>\n",
       "      <th>3</th>\n",
       "      <td>ATL</td>\n",
       "      <td>4</td>\n",
       "      <td>07-11-2014</td>\n",
       "      <td>Away</td>\n",
       "      <td>CHO</td>\n",
       "      <td>L</td>\n",
       "      <td>119</td>\n",
       "      <td>122</td>\n",
       "      <td>43</td>\n",
       "      <td>93</td>\n",
       "      <td>...</td>\n",
       "      <td>27</td>\n",
       "      <td>0.741</td>\n",
       "      <td>11</td>\n",
       "      <td>51</td>\n",
       "      <td>31</td>\n",
       "      <td>6</td>\n",
       "      <td>7</td>\n",
       "      <td>19</td>\n",
       "      <td>30</td>\n",
       "      <td>0</td>\n",
       "    </tr>\n",
       "    <tr>\n",
       "      <th>4</th>\n",
       "      <td>ATL</td>\n",
       "      <td>5</td>\n",
       "      <td>08-11-2014</td>\n",
       "      <td>Home</td>\n",
       "      <td>NYK</td>\n",
       "      <td>W</td>\n",
       "      <td>103</td>\n",
       "      <td>96</td>\n",
       "      <td>33</td>\n",
       "      <td>81</td>\n",
       "      <td>...</td>\n",
       "      <td>11</td>\n",
       "      <td>0.727</td>\n",
       "      <td>13</td>\n",
       "      <td>44</td>\n",
       "      <td>26</td>\n",
       "      <td>2</td>\n",
       "      <td>6</td>\n",
       "      <td>15</td>\n",
       "      <td>29</td>\n",
       "      <td>1</td>\n",
       "    </tr>\n",
       "  </tbody>\n",
       "</table>\n",
       "<p>5 rows × 41 columns</p>\n",
       "</div>"
      ],
      "text/plain": [
       "  Team  Game        Date  Home Opponent WINorLOSS  TeamPoints  OpponentPoints  \\\n",
       "0  ATL     1  29-10-2014  Away      TOR         L         102             109   \n",
       "1  ATL     2  01-11-2014  Home      IND         W         102              92   \n",
       "2  ATL     3  05-11-2014  Away      SAS         L          92              94   \n",
       "3  ATL     4  07-11-2014  Away      CHO         L         119             122   \n",
       "4  ATL     5  08-11-2014  Home      NYK         W         103              96   \n",
       "\n",
       "   FieldGoals  FieldGoalsAttempted  ...  Opp.FreeThrowsAttempted  \\\n",
       "0          40                   80  ...                       33   \n",
       "1          35                   69  ...                       21   \n",
       "2          38                   92  ...                       38   \n",
       "3          43                   93  ...                       27   \n",
       "4          33                   81  ...                       11   \n",
       "\n",
       "   Opp.FreeThrows.  Opp.OffRebounds  Opp.TotalRebounds  Opp.Assists  \\\n",
       "0            0.818               16                 48           26   \n",
       "1            0.857               11                 44           25   \n",
       "2            0.711               11                 50           25   \n",
       "3            0.741               11                 51           31   \n",
       "4            0.727               13                 44           26   \n",
       "\n",
       "   Opp.Steals  Opp.Blocks  Opp.Turnovers  Opp.TotalFouls  GameResult  \n",
       "0          13           9              9              22           0  \n",
       "1           5           5             18              26           1  \n",
       "2           7           9             19              15           0  \n",
       "3           6           7             19              30           0  \n",
       "4           2           6             15              29           1  \n",
       "\n",
       "[5 rows x 41 columns]"
      ]
     },
     "execution_count": 1,
     "metadata": {},
     "output_type": "execute_result"
    }
   ],
   "source": [
    "import pandas as pd\n",
    "data =pd.read_csv(r'C:\\Users\\lakha\\data_sets\\nba.games.stats1.csv')\n",
    "data.head()"
   ]
  },
  {
   "cell_type": "code",
   "execution_count": 2,
   "id": "32fc8094",
   "metadata": {},
   "outputs": [],
   "source": [
    "feature_cols =['FieldGoals','FieldGoalsAttempted','X3PointShots','X3PointShotsAttempted','FreeThrows','FreeThrowsAttempted','Assists','Steals','Blocks','Turnovers','TotalFouls']\n",
    "X = data[feature_cols] \n",
    "y= data.GameResult"
   ]
  },
  {
   "cell_type": "code",
   "execution_count": 3,
   "id": "a48c7f54",
   "metadata": {},
   "outputs": [],
   "source": [
    "from sklearn.model_selection import train_test_split\n",
    "X_train,X_test,y_train,y_test=train_test_split(X,y,test_size=0.25,random_state=0)"
   ]
  },
  {
   "cell_type": "code",
   "execution_count": 4,
   "id": "3e01d278",
   "metadata": {},
   "outputs": [
    {
     "name": "stderr",
     "output_type": "stream",
     "text": [
      "C:\\Users\\lakha\\anaconda3\\lib\\site-packages\\sklearn\\linear_model\\_logistic.py:763: ConvergenceWarning: lbfgs failed to converge (status=1):\n",
      "STOP: TOTAL NO. of ITERATIONS REACHED LIMIT.\n",
      "\n",
      "Increase the number of iterations (max_iter) or scale the data as shown in:\n",
      "    https://scikit-learn.org/stable/modules/preprocessing.html\n",
      "Please also refer to the documentation for alternative solver options:\n",
      "    https://scikit-learn.org/stable/modules/linear_model.html#logistic-regression\n",
      "  n_iter_i = _check_optimize_result(\n"
     ]
    }
   ],
   "source": [
    "# import the class\n",
    "from sklearn.linear_model import LogisticRegression\n",
    "\n",
    "# instantiate the model (using the default parameters)\n",
    "logreg = LogisticRegression()\n",
    "\n",
    "# fit the model with data\n",
    "logreg.fit(X_train,y_train)\n",
    "\n",
    "#\n",
    "y_pred=logreg.predict(X_test)"
   ]
  },
  {
   "cell_type": "code",
   "execution_count": 5,
   "id": "279b389e",
   "metadata": {},
   "outputs": [
    {
     "data": {
      "text/plain": [
       "array([[921, 281],\n",
       "       [346, 912]], dtype=int64)"
      ]
     },
     "execution_count": 5,
     "metadata": {},
     "output_type": "execute_result"
    }
   ],
   "source": [
    "# import the metrics class\n",
    "from sklearn import metrics\n",
    "cnf_matrix = metrics.confusion_matrix(y_test, y_pred)\n",
    "cnf_matrix"
   ]
  },
  {
   "cell_type": "code",
   "execution_count": 6,
   "id": "9a76dff7",
   "metadata": {},
   "outputs": [],
   "source": [
    "# import required modules\n",
    "import numpy as np\n",
    "import matplotlib.pyplot as plt\n",
    "import seaborn as sns\n",
    "%matplotlib inline"
   ]
  },
  {
   "cell_type": "code",
   "execution_count": 7,
   "id": "7396e861",
   "metadata": {},
   "outputs": [
    {
     "data": {
      "text/plain": [
       "Text(0.5, 257.44, 'Predicted label')"
      ]
     },
     "execution_count": 7,
     "metadata": {},
     "output_type": "execute_result"
    },
    {
     "data": {
      "image/png": "[encoded data removed]",
      "text/plain": [
       "<Figure size 432x288 with 2 Axes>"
      ]
     },
     "metadata": {
      "needs_background": "light"
     },
     "output_type": "display_data"
    }
   ],
   "source": [
    "class_names=[0,1] # name  of classes\n",
    "fig, ax = plt.subplots()\n",
    "tick_marks = np.arange(len(class_names))\n",
    "plt.xticks(tick_marks, class_names)\n",
    "plt.yticks(tick_marks, class_names)\n",
    "# create heatmap\n",
    "sns.heatmap(pd.DataFrame(cnf_matrix), annot=True, cmap=\"YlGnBu\" ,fmt='g')\n",
    "ax.xaxis.set_label_position(\"top\")\n",
    "plt.tight_layout()\n",
    "plt.title('Confusion matrix', y=1.1)\n",
    "plt.ylabel('Actual label')\n",
    "plt.xlabel('Predicted label')"
   ]
  },
  {
   "cell_type": "code",
   "execution_count": 8,
   "id": "f6ef4941",
   "metadata": {},
   "outputs": [
    {
     "name": "stdout",
     "output_type": "stream",
     "text": [
      "Accuracy: 0.7451219512195122\n",
      "Precision: 0.7644593461860855\n",
      "Recall: 0.724960254372019\n"
     ]
    }
   ],
   "source": [
    "print(\"Accuracy:\",metrics.accuracy_score(y_test, y_pred))\n",
    "print(\"Precision:\",metrics.precision_score(y_test, y_pred))\n",
    "print(\"Recall:\",metrics.recall_score(y_test, y_pred))"
   ]
  },
  {
   "cell_type": "code",
   "execution_count": 9,
   "id": "fb381069",
   "metadata": {},
   "outputs": [
    {
     "data": {
      "image/png": "[encoded data removed]",
      "text/plain": [
       "<Figure size 432x288 with 1 Axes>"
      ]
     },
     "metadata": {
      "needs_background": "light"
     },
     "output_type": "display_data"
    }
   ],
   "source": [
    "y_pred_proba = logreg.predict_proba(X_test)[::,1]\n",
    "fpr, tpr, _ = metrics.roc_curve(y_test,  y_pred_proba)\n",
    "auc = metrics.roc_auc_score(y_test, y_pred_proba)\n",
    "plt.plot(fpr,tpr,label=\"data 1, auc=\"+str(auc))\n",
    "plt.legend(loc=4)\n",
    "plt.show()"
   ]
  },
  {
   "cell_type": "code",
   "execution_count": null,
   "id": "d7a655d9",
   "metadata": {},
   "outputs": [],
   "source": []
  },
  {
   "cell_type": "code",
   "execution_count": null,
   "id": "b1cd27e2",
   "metadata": {},
   "outputs": [],
   "source": []
  },
  {
   "cell_type": "code",
   "execution_count": null,
   "id": "e6a3b5dd",
   "metadata": {},
   "outputs": [],
   "source": []
  }
 ],
 "metadata": {
  "kernelspec": {
   "display_name": "Python 3",
   "language": "python",
   "name": "python3"
  },
  "language_info": {
   "codemirror_mode": {
    "name": "ipython",
    "version": 3
   },
   "file_extension": ".py",
   "mimetype": "text/x-python",
   "name": "python",
   "nbconvert_exporter": "python",
   "pygments_lexer": "ipython3",
   "version": "3.8.8"
  }
 },
 "nbformat": 4,
 "nbformat_minor": 5
}
